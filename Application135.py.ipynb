{
 "cells": [
  {
   "cell_type": "code",
   "execution_count": 1,
   "id": "30d5ecc4",
   "metadata": {},
   "outputs": [],
   "source": [
    "from pathlib import Path\n",
    "from steganography.steganography import Steganography"
   ]
  },
  {
   "cell_type": "code",
   "execution_count": 2,
   "id": "2a63239b",
   "metadata": {},
   "outputs": [
    {
     "ename": "SyntaxError",
     "evalue": "invalid syntax (1334977582.py, line 4)",
     "output_type": "error",
     "traceback": [
      "\u001b[1;36m  Cell \u001b[1;32mIn[2], line 4\u001b[1;36m\u001b[0m\n\u001b[1;33m    from tkinter.messagebox import\u001b[0m\n\u001b[1;37m                                   ^\u001b[0m\n\u001b[1;31mSyntaxError\u001b[0m\u001b[1;31m:\u001b[0m invalid syntax\n"
     ]
    }
   ],
   "source": [
    "import tkinter as tk\n",
    "import tkinter.ttk as ttk\n",
    "from PIL import ImageTk, Image\n",
    "from tkinter.messagebox import \n",
    "from pathlib import Path\n",
    "from steganography.steganography import Steganography"
   ]
  },
  {
   "cell_type": "code",
   "execution_count": null,
   "id": "35f5a710",
   "metadata": {},
   "outputs": [],
   "source": [
    "class Application(Steganography): \n",
    "    def __init__(self):  # Corrected constructor name\n",
    "        try:\n",
    "            self.__buffer = None  \n",
    "            self.__cover_filepath = None  \n",
    "            self.__stego_filepath = None  \n",
    "            \n",
    "            self.__app = tk.Tk()  \n",
    "            self.__app.geometry('600x360')  \n",
    "            self.__app.title(\"Major Project\")  \n",
    "            self.__app.resizable(False, False)  \n",
    "            \n",
    "            # Assign PhotoImage to an attribute to prevent garbage collection\n",
    "            self.icon = ImageTk.PhotoImage(Image.open('images/title.ico'))\n",
    "            self.__app.iconphoto(False, self.icon)\n",
    "\n",
    "            self.__tabs = ttk.Notebook(self.__app)  # Corrected self.__app reference\n",
    "            self.__createEncryptionTab()  \n",
    "            self.__createDecryptionTab()  \n",
    "            # self.__createAboutTab()  \n",
    "\n",
    "            self.__tabs.pack(expand=1, fill=\"both\")  \n",
    "\n",
    "            self.__app.mainloop()  \n",
    "        except Exception as e:  \n",
    "            messagebox.showerror(\"IncognitoBit\", f\"Oops! Some error has occurred: {str(e)}\")  \n",
    "            self.__app.destroy()\n"
   ]
  },
  {
   "cell_type": "code",
   "execution_count": 3,
   "id": "91ab423f",
   "metadata": {},
   "outputs": [],
   "source": [
    "def __createEncryptionTab(self):\n",
    "    self._encryption_tab = tk.Frame(self._tabs) \n",
    "    self._tabs.add(self._encryption_tab, text=\"Encryption\") \n",
    "    self.__generateCanvas() \n",
    "    self.__uploadCoverImageButton() \n",
    "    self.__saveStegoImageButton() \n",
    "    self.__messageInput() \n",
    "    self.__uploadTextFileButton() \n",
    "    self._resetButton(self._encryption_tab, 160, 300) \n",
    "    self.__stegoGenerateButton() \n",
    "    self._exitButton(self._encryption_tab, 400, 300)"
   ]
  },
  {
   "cell_type": "code",
   "execution_count": 4,
   "id": "de2227ee",
   "metadata": {},
   "outputs": [],
   "source": [
    "def __generateCanvas(self): \n",
    "    self._bg_frame = tk.Frame(self._encryption_tab, bg=\"black\", height=180, width=598) \n",
    "    self.__bg_frame.pack() \n",
    "    self.__bg_frame.pack_propagate(0) \n",
    "    self.__bg_frame.place(x=1, y=2) \n",
    "    self._cover_frame = tk.Frame(self._encryption_tab, bg=\"white\", height = 178, width=300) \n",
    "    self.__cover_frame.pack() \n",
    "    self.__cover_frame.pack_propagate(0) \n",
    "    self.__cover_frame.place(x=2, y=3) \n",
    "    self._stego_frame = tk.Frame(self._encryption_tab, bg=\"white\", height = 178, width=292) \n",
    "    self.__stego_frame.pack() \n",
    "    self.__stego_frame.pack_propagate(0) \n",
    "    self.__stego_frame.place(x=303, y=3)\n"
   ]
  },
  {
   "cell_type": "code",
   "execution_count": 5,
   "id": "2963d64e",
   "metadata": {},
   "outputs": [],
   "source": [
    "def __onClickuploadCoverImageButton(self): \n",
    "    self.__buffer = str(filedialog.askopenfile(filetypes=[(\"PNG Images\", \"*.png\")])) \n",
    "    if (self._buffer == \"None\" and self.cover_filepath == \"None\") or self._buffer != \"None\": \n",
    "        self._cover_filepath = self._buffer \n",
    "    else: \n",
    "        return\n",
    "    self._cover_filepath = self.cover_filepath[self._cover_filepath.find(\"'\") + 1:] \n",
    "    self._cover_filepath = self.cover_filepath[:self._cover_filepath.find(\"'\")] \n",
    "    self._cover_img = Image.open(self._cover_filepath) \n",
    "    self._cover_img = self._cover_img.resize((298, 176)) \n",
    "    self._cover_img = ImageTk.PhotoImage(self._cover_img) \n",
    "    self._cover_panel = tk.Label(self.encryption_tab, image=self._cover_img, height=172,width=296) \n",
    "    self.__cover_panel.place(x=2, y=3.5)"
   ]
  },
  {
   "cell_type": "code",
   "execution_count": 6,
   "id": "c5c8201b",
   "metadata": {},
   "outputs": [],
   "source": [
    "def __uploadCoverImageButton(self):\n",
    "    self._upload_img_btn = tk.Button(self.encryption_tab, text=\"Upload Image\", command=self._onClickuploadCoverImageButton) \n",
    "    self.__upload_img_btn.place(x=110, y=194) \n",
    "        "
   ]
  },
  {
   "cell_type": "code",
   "execution_count": 7,
   "id": "95e94c36",
   "metadata": {},
   "outputs": [],
   "source": [
    "def __onClickSaveStegoImageButton(self): \n",
    "    self.__stego_filepath = str(filedialog.asksaveasfile(initialfile = 'stego.png', defaultextension=\".png\",filetypes=[(\"PNG Images\",\"*.png\")]))\n",
    "    if self.__stego_filepath == \"None\": \n",
    "        return\n",
    "    self._stego_filepath = self.stego_filepath[self._stego_filepath.find(\"'\") + 1:] \n",
    "    self._stego_filepath = self.stego_filepath[:self._stego_filepath.find(\"'\")] \n",
    "    self._stego_object._saveStegoImage(self._stego_filepath) \n",
    "    messagebox.showinfo(\"IncognitoBit\", \"Stego Image saved successfully\") \n",
    "    self.__onClickResetButton() "
   ]
  },
  {
   "cell_type": "code",
   "execution_count": 8,
   "id": "b6006969",
   "metadata": {},
   "outputs": [],
   "source": [
    "def __saveStegoImageButton(self): \n",
    "    self._save_stego_img_btn = tk.Button(self.encryption_tab, text=\"Save Stego Image\", command=self._onClickSaveStegoImageButton) \n",
    "    self.__save_stego_img_btn.place(x=385, y=194) \n",
    "    self.__save_stego_img_btn[\"state\"] = DISABLED"
   ]
  },
  {
   "cell_type": "code",
   "execution_count": 9,
   "id": "4d244f27",
   "metadata": {},
   "outputs": [],
   "source": [
    "def __messageInput(self): \n",
    "    self._message_bg = tk.Frame(self._encryption_tab, bg=\"black\", height=54, width=486) \n",
    "    self.__message_bg.pack() \n",
    "    self.__message_bg.pack_propagate(0) \n",
    "    self.__padding_left = 109 \n",
    "    self.__padding_top = 235 \n",
    "    self.__message_bg.place(x=self._padding_left, y=self._padding_top) \n",
    "    self._message_label = tk.Label(self._encryption_tab, text=\"Enter the Message\") \n",
    "    self.__message_label.place(x=2.5, y=self.__padding_top) \n",
    "    self._message = tk.Text(self._encryption_tab, undo=True, height=2.5, width=60, wrap=WORD) \n",
    "    self.__message.place(x=self._padding_left+1, y=self._padding_top+1)"
   ]
  },
  {
   "cell_type": "code",
   "execution_count": 10,
   "id": "3884dba8",
   "metadata": {},
   "outputs": [],
   "source": [
    "def __onClickUploadTextFileButton(self): \n",
    "    self.__text_filepath = str(filedialog.askopenfile(filetypes=[(\"Text Files\", \"*.txt\")])) \n",
    "    if self.__text_filepath == \"None\":\n",
    "        return\n",
    "    self._text_filepath = self.text_filepath[self._text_filepath.find(\"'\") + 1:] \n",
    "    self._text_filepath = self.text_filepath[:self._text_filepath.find(\"'\")]\n",
    "    with open(self.__text_filepath, 'r') as f: \n",
    "        self.__message.insert(1.0, f.read()) "
   ]
  },
  {
   "cell_type": "code",
   "execution_count": 11,
   "id": "54143c74",
   "metadata": {},
   "outputs": [],
   "source": [
    "def __uploadTextFileButton(self): \n",
    "    self._upload_txt_btn = tk.Button(self.encryption_tab, text=\"Upload Text\", command=self._onClickUploadTextFileButton) \n",
    "    self.__upload_txt_btn.place(x=16, y=260)"
   ]
  },
  {
   "cell_type": "code",
   "execution_count": 12,
   "id": "4c27f21c",
   "metadata": {},
   "outputs": [],
   "source": [
    "def __onClickResetButton(self):\n",
    "    self.__app.destroy() \n",
    "    self._init_() "
   ]
  },
  {
   "cell_type": "code",
   "execution_count": 13,
   "id": "1239f269",
   "metadata": {},
   "outputs": [],
   "source": [
    "def __resetButton(self, parent_widget, padding_left, padding_top):\n",
    "    self._reset_btn = tk.Button(parent_widget, text=\"Reset\", command=self._onClickResetButton) \n",
    "    self.__reset_btn.place(x=padding_left, y=padding_top) "
   ]
  },
  {
   "cell_type": "code",
   "execution_count": 14,
   "id": "9e1364e1",
   "metadata": {},
   "outputs": [],
   "source": [
    "def __stickStegoImage(self): \n",
    "    self._stego_img = ImageTk.PhotoImage(self._stego_object._stego_image.resize((298, 176))) \n",
    "    self._stego_panel = tk.Label(self.encryption_tab, image=self._stego_img, height=172, width=287) \n",
    "    self.__stego_panel.place(x=303, y=3.5)"
   ]
  },
  {
   "cell_type": "code",
   "execution_count": 15,
   "id": "452ca42b",
   "metadata": {},
   "outputs": [],
   "source": [
    "def __onClickStegoGenerateButton(self): \n",
    "    if self._cover_filepath is None or self._cover_filepath == \"None\":\n",
    "        messagebox.showerror(\"IncognitoBit\", \"Must upload a cover image\") \n",
    "        return\n",
    "    if len(self.__message.get(1.0, \"end-1c\")) == 0:\n",
    "        messagebox.showerror(\"IncognitoBit\", \"Must enter some message or upload text file to be hidden\") \n",
    "        return \n",
    "    self.__message.configure(state=\"disabled\") \n",
    "    self.__upload_img_btn[\"state\"] = DISABLED \n",
    "    self.__stego_generate_btn[\"state\"] = DISABLED \n",
    "    self.__upload_txt_btn[\"state\"] = DISABLED \n",
    "    self._stego_object = Steganography(self.cover_filepath, self._message.get(1.0, \"end-1c\")) \n",
    "    self._status = self._stego_object._generateStegoImage()\n",
    "    if self.__status != \"Stego Image generated successfully\":\n",
    "        messagebox.showerror(\"IncognitoBit\", self.__status) \n",
    "        self.__onClickResetButton()\n",
    "    else:\n",
    "        self.__stickStegoImage() \n",
    "        messagebox.showinfo(\"IncognitoBit\", self.__status) \n",
    "        self.__save_stego_img_btn[\"state\"] = NORMAL "
   ]
  },
  {
   "cell_type": "code",
   "execution_count": 16,
   "id": "8a6a76be",
   "metadata": {},
   "outputs": [],
   "source": [
    "def __stegoGenerateButton(self): \n",
    "    self._stego_generate_btn = tk.Button(self.encryption_tab, text=\"Generate Stego Image\", command=self._onClickStegoGenerateButton) \n",
    "    self.__stego_generate_btn.place(x=235, y=300)"
   ]
  },
  {
   "cell_type": "code",
   "execution_count": 17,
   "id": "9c2d6f71",
   "metadata": {},
   "outputs": [],
   "source": [
    "def __exitButton(self, parent_widget, padding_left, padding_top):\n",
    "    self._exit_btn = tk.Button(parent_widget, text=\"Exit\", command=self._app.destroy) \n",
    "    self.__exit_btn.place(x=padding_left, y=padding_top) "
   ]
  },
  {
   "cell_type": "code",
   "execution_count": 18,
   "id": "fb35b20f",
   "metadata": {},
   "outputs": [],
   "source": [
    "def __createDecryptionTab(self):\n",
    "    self._decryption_tab = tk.Frame(self._tabs) \n",
    "    self._tabs.add(self._decryption_tab, text=\"Decryption\") \n",
    "    self.__createDecryptionCanvas() \n",
    "    self.__uploadStegoImageButton() \n",
    "    self.__retrieveMessageButton() \n",
    "    self.__createSaveTextButton() \n",
    "    self.__createLoadingBar() \n",
    "    self._resetButton(self._decryption_tab, 172.5, 272.5) \n",
    "    self._exitButton(self._decryption_tab, 270, 272.5) "
   ]
  },
  {
   "cell_type": "code",
   "execution_count": 19,
   "id": "b8e060c8",
   "metadata": {},
   "outputs": [],
   "source": [
    "def __createDecryptionCanvas(self): \n",
    "    self._stego_image_bg_frame = tk.Frame(self._decryption_tab, background=\"black\", height=262, width=598) \n",
    "    self.__stego_image_bg_frame.pack() \n",
    "    self.__stego_image_bg_frame.pack_propagate(0) \n",
    "    self.__stego_image_bg_frame.place(x=1, y=1) \n",
    "    self._decrypted_text = scrolledtext.ScrolledText(self._decryption_tab, width=30, height=16, wrap=CHAR) \n",
    "    self.__decrypted_text.configure(state=DISABLED) \n",
    "    self.__decrypted_text.place(x=334, y=2) \n",
    "    self._stego_image_fg_frame = tk.Frame(self._decryption_tab, background=\"white\", height=260, width=331)\n",
    "    self.__stego_image_fg_frame.pack() \n",
    "    self.__stego_image_fg_frame.pack_propagate(0) \n",
    "    self.__stego_image_fg_frame.place(x=2, y=2)"
   ]
  },
  {
   "cell_type": "code",
   "execution_count": 20,
   "id": "320b0fc9",
   "metadata": {},
   "outputs": [],
   "source": [
    "def __onClickRetrieveMessageButton(self):\n",
    "    if self._stego_filepath is None or self._stego_filepath == \"None\": \n",
    "        messagebox.showerror(\"IncognitoBit\", \"Upload an image for decryption\") \n",
    "        return\n",
    "    self.__retrieve_btn.configure(state=DISABLED) \n",
    "    self.__upload_stego_img_btn.configure(state=DISABLED) \n",
    "    self._stego_object = Steganography(self._stego_filepath) \n",
    "    self._original_msg = self.stego_object._retrieveMessage(self.decryption_tab, self._loading_bar) \n",
    "    self.__decrypted_text.configure(state=NORMAL) \n",
    "    self._decrypted_text.insert(INSERT, self._original_msg) \n",
    "    self.__decrypted_text.configure(state=DISABLED) \n",
    "    if len(self.__decrypted_text.get(1.0, \"end-1c\")) == 0: \n",
    "        messagebox.showinfo(\"IncognitoBit\", \"No hidden message found\") \n",
    "        self.__onClickResetButton() \n",
    "    else: \n",
    "        messagebox.showinfo(\"IncognitoBit\", \"Message retrieved successfully\") \n",
    "        self.__save_text_btn.configure(state=NORMAL) "
   ]
  },
  {
   "cell_type": "code",
   "execution_count": 21,
   "id": "675d8adf",
   "metadata": {},
   "outputs": [],
   "source": [
    "def __retrieveMessageButton(self):\n",
    "    self._retrieve_btn = tk.Button(self.decryption_tab, text=\"Retrieve Message\", command=self._onClickRetrieveMessageButton) \n",
    "    self.__retrieve_btn.place(x=355, y=272.5) "
   ]
  },
  {
   "cell_type": "code",
   "execution_count": 22,
   "id": "ab56d1ea",
   "metadata": {},
   "outputs": [],
   "source": [
    "def __onClickuploadStegoImageButton(self): \n",
    "    self.__stego_filepath = str(filedialog.askopenfile(filetypes=[(\"PNG Images\", \"*.png\")])) \n",
    "    if self.__stego_filepath == \"None\":\n",
    "        return  \n",
    "    self._stego_filepath = self.stego_filepath[self._stego_filepath.find(\"'\") + 1:] \n",
    "    self._stego_filepath = self.stego_filepath[:self._stego_filepath.find(\"'\")] \n",
    "    self._stego_img = Image.open(self._stego_filepath) \n",
    "    self._stego_img = self._stego_img.resize((327, 255)) \n",
    "    self._stego_img = ImageTk.PhotoImage(self._stego_img) \n",
    "    self._stego_panel = tk.Label(self.decryption_tab, image=self._stego_img, height=255, width=327) \n",
    "    self.__stego_panel.place(x=2, y=3)"
   ]
  },
  {
   "cell_type": "code",
   "execution_count": 23,
   "id": "a11860b4",
   "metadata": {},
   "outputs": [],
   "source": [
    "def __uploadStegoImageButton(self): \n",
    "    self._upload_stego_img_btn = tk.Button(self.decryption_tab, text=\"Upload Image\", command=self._onClickuploadStegoImageButton) \n",
    "    self.__upload_stego_img_btn.place(x=35, y=272.5)"
   ]
  },
  {
   "cell_type": "code",
   "execution_count": 24,
   "id": "8d7761d5",
   "metadata": {},
   "outputs": [],
   "source": [
    "def __onClickSaveTextButton(self):\n",
    "    self.__msg_filepath = str(filedialog.asksaveasfile(initialfile = 'message.txt', defaultextension=\".txt\",filetypes=[(\"Text Files\",\"*.txt\")])) \n",
    "    if self.__msg_filepath == \"None\": \n",
    "        return \n",
    "    self._msg_filepath = self.msg_filepath[self._msg_filepath.find(\"'\") + 1:] \n",
    "    self._msg_filepath = self.msg_filepath[:self._msg_filepath.find(\"'\")] \n",
    "    with open(self.__msg_filepath, 'w+') as f:\n",
    "        f.write(self.__decrypted_text.get(1.0, \"end-1c\"))\n",
    "    f.close() \n",
    "    messagebox.showinfo(\"IncognitoBit\", \"Message saved successfully\") \n",
    "    self.__onClickResetButton() "
   ]
  },
  {
   "cell_type": "code",
   "execution_count": 25,
   "id": "b6927503",
   "metadata": {},
   "outputs": [],
   "source": [
    "def __createSaveTextButton(self):\n",
    "    self._save_text_btn = tk.Button(self.decryption_tab, text=\"Save Message\", command=self._onClickSaveTextButton) \n",
    "    self.__save_text_btn.place(x=490, y=272.5) \n",
    "    self.__save_text_btn.configure(state=DISABLED)"
   ]
  },
  {
   "cell_type": "code",
   "execution_count": 26,
   "id": "bf42fb66",
   "metadata": {},
   "outputs": [],
   "source": [
    "def __createLoadingBar(self): \n",
    "    self._loading_bg_frame = tk.Frame(self._decryption_tab, background=\"red\", height=30, width=600) \n",
    "    self.__loading_bg_frame.pack() \n",
    "    self.__loading_bg_frame.pack_propagate(0) \n",
    "    self.__loading_bg_frame.place(x=0, y=308) \n",
    "    self._loading_bar = ttk.Progressbar(self._decryption_tab, orient=\"horizontal\", length=592, value=0) \n",
    "    self.__loading_bar.place(x=1.5, y=310) \n",
    "    self.__loading_bar['value'] = 0"
   ]
  },
  {
   "cell_type": "code",
   "execution_count": 27,
   "id": "5b93712e",
   "metadata": {},
   "outputs": [],
   "source": [
    "def main(): \n",
    "    Application()\n"
   ]
  },
  {
   "cell_type": "code",
   "execution_count": null,
   "id": "78c4d9a2",
   "metadata": {},
   "outputs": [],
   "source": []
  },
  {
   "cell_type": "code",
   "execution_count": null,
   "id": "a2698dec",
   "metadata": {},
   "outputs": [],
   "source": []
  },
  {
   "cell_type": "code",
   "execution_count": null,
   "id": "e8a5ae8d",
   "metadata": {},
   "outputs": [],
   "source": []
  },
  {
   "cell_type": "code",
   "execution_count": null,
   "id": "099acff3",
   "metadata": {},
   "outputs": [],
   "source": []
  }
 ],
 "metadata": {
  "kernelspec": {
   "display_name": "Python 3 (ipykernel)",
   "language": "python",
   "name": "python3"
  },
  "language_info": {
   "codemirror_mode": {
    "name": "ipython",
    "version": 3
   },
   "file_extension": ".py",
   "mimetype": "text/x-python",
   "name": "python",
   "nbconvert_exporter": "python",
   "pygments_lexer": "ipython3",
   "version": "3.11.5"
  }
 },
 "nbformat": 4,
 "nbformat_minor": 5
}
