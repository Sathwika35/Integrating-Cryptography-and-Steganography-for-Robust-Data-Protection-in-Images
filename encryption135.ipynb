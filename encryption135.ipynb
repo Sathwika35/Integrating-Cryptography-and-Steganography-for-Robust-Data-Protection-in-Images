{
 "cells": [
  {
   "cell_type": "code",
   "execution_count": 1,
   "id": "97f8615a",
   "metadata": {},
   "outputs": [],
   "source": [
    "import random\n",
    "class Encryption:\n",
    "    def __init__(self, msg):\n",
    "        self.__plain_text = msg"
   ]
  },
  {
   "cell_type": "code",
   "execution_count": 2,
   "id": "192acfe4",
   "metadata": {},
   "outputs": [],
   "source": [
    "def _getPrivateKey(self):\n",
    "    while True:\n",
    "        self.__r = random.randint(1, len(self.__plain_text))\n",
    "        self.__private_key = int(format(ord(self.__plain_text[self.__r]), \"08b\")[:4], 2)\n",
    "        if self.__private_key >= 8:\n",
    "            break\n",
    "        self.__private_key = int(format(ord(self.__plain_text[self.__r]), \"08b\")[4:], 2)\n",
    "        if self.__private_key >= 8:\n",
    "            break\n",
    "    return self.__private_key"
   ]
  },
  {
   "cell_type": "code",
   "execution_count": 3,
   "id": "218bf902",
   "metadata": {},
   "outputs": [],
   "source": [
    "def _encryptMessage(self, token):\n",
    "    self.__plain_text = token + self.__plain_text\n",
    "    self.__encrypted_msg = []\n",
    "    for char in self.__plain_text:\n",
    "        temp = (format(ord(char) // self.__private_key, \"04b\") + format(ord(char) % self.__private_key, \"04b\"))[::-1]\n",
    "        self.__encrypted_msg.append(temp)\n",
    "    return self.__encrypted_msg "
   ]
  },
  {
   "cell_type": "code",
   "execution_count": null,
   "id": "6553628e",
   "metadata": {},
   "outputs": [],
   "source": []
  },
  {
   "cell_type": "code",
   "execution_count": null,
   "id": "286195f6",
   "metadata": {},
   "outputs": [],
   "source": []
  }
 ],
 "metadata": {
  "kernelspec": {
   "display_name": "Python 3 (ipykernel)",
   "language": "python",
   "name": "python3"
  },
  "language_info": {
   "codemirror_mode": {
    "name": "ipython",
    "version": 3
   },
   "file_extension": ".py",
   "mimetype": "text/x-python",
   "name": "python",
   "nbconvert_exporter": "python",
   "pygments_lexer": "ipython3",
   "version": "3.11.5"
  }
 },
 "nbformat": 4,
 "nbformat_minor": 5
}
