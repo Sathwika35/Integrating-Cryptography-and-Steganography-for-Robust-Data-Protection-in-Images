{
 "cells": [
  {
   "cell_type": "code",
   "execution_count": 1,
   "id": "3992ce70",
   "metadata": {},
   "outputs": [],
   "source": [
    "class Decryption:\n",
    "    def __init__(self):\n",
    "       pass "
   ]
  },
  {
   "cell_type": "code",
   "execution_count": 2,
   "id": "cffb21b5",
   "metadata": {},
   "outputs": [],
   "source": [
    "def _matchToken(self, received_token, original_token, private_key):\n",
    "    self.__private_key = private_key\n",
    "    self.__token = []\n",
    "    for binstring in received_token:\n",
    "        binstring = binstring[::-1]\n",
    "        self.__token.append(chr(int(binstring[:4], 2) * self.__private_key + int(binstring[4:], 2)))\n",
    "        if \"\".join(self.__token) == original_token:\n",
    "            return True\n",
    "        return False"
   ]
  },
  {
   "cell_type": "code",
   "execution_count": 3,
   "id": "d278007c",
   "metadata": {},
   "outputs": [],
   "source": [
    "def _decryptMessage(self, msg):\n",
    "    self.__encrypted_text = msg\n",
    "    self.__plain_text = []\n",
    "    for binstring in self.__encrypted_text:\n",
    "        binstring = binstring[::-1]\n",
    "        self.__plain_text.append(chr(int(binstring[:4], 2) * self.__private_key + int(binstring[4:], 2)))\n",
    "        return \"\".join(self.__plain_text)"
   ]
  },
  {
   "cell_type": "code",
   "execution_count": null,
   "id": "f4060d96",
   "metadata": {},
   "outputs": [],
   "source": []
  },
  {
   "cell_type": "code",
   "execution_count": null,
   "id": "fe3271be",
   "metadata": {},
   "outputs": [],
   "source": []
  },
  {
   "cell_type": "code",
   "execution_count": null,
   "id": "66fbef53",
   "metadata": {},
   "outputs": [],
   "source": []
  },
  {
   "cell_type": "code",
   "execution_count": null,
   "id": "669b43dd",
   "metadata": {},
   "outputs": [],
   "source": []
  },
  {
   "cell_type": "code",
   "execution_count": null,
   "id": "bfcf42be",
   "metadata": {},
   "outputs": [],
   "source": []
  }
 ],
 "metadata": {
  "kernelspec": {
   "display_name": "Python 3 (ipykernel)",
   "language": "python",
   "name": "python3"
  },
  "language_info": {
   "codemirror_mode": {
    "name": "ipython",
    "version": 3
   },
   "file_extension": ".py",
   "mimetype": "text/x-python",
   "name": "python",
   "nbconvert_exporter": "python",
   "pygments_lexer": "ipython3",
   "version": "3.11.5"
  }
 },
 "nbformat": 4,
 "nbformat_minor": 5
}
